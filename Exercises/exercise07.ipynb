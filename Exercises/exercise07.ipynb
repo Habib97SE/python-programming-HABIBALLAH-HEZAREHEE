{
 "cells": [
  {
   "cell_type": "code",
   "execution_count": null,
   "metadata": {},
   "outputs": [],
   "source": [
    "class Unit_Conversion:\n",
    "    def __init__(self, value: int):\n",
    "        try: \n",
    "            self.value = int(value)\n",
    "        except:\n",
    "            print(\"Please enter a valid number\")\n",
    "    \n",
    "    def inch_to_cm(self):\n",
    "        return self.value * 2.54\n",
    "    \n",
    "    def foot_to_meters(self):\n",
    "        return self.value * 0.3048\n",
    "    \n",
    "    def pound_to_kg(self):\n",
    "        return self.value * 0.453592\n",
    "    \n",
    "    def __repr__(self) -> str:\n",
    "        return f\"Unit_Conversion({self.value})\"\n",
    "    \n",
    "    # getter\n",
    "    def get_value(self):\n",
    "        return self.value\n",
    "    \n",
    "    # setter\n",
    "    def set_value(self, value):\n",
    "        self.value = value\n",
    "\n",
    "    value = property(get_value, set_value)"
   ]
  },
  {
   "cell_type": "code",
   "execution_count": null,
   "metadata": {},
   "outputs": [],
   "source": [
    "new_conversion_unit = Unit_Conversion(10)\n",
    "print(new_conversion_unit.inch_to_cm())"
   ]
  }
 ],
 "metadata": {
  "kernelspec": {
   "display_name": "Python 3.9.7 ('Antbok')",
   "language": "python",
   "name": "python3"
  },
  "language_info": {
   "name": "python",
   "version": "3.9.7"
  },
  "orig_nbformat": 4,
  "vscode": {
   "interpreter": {
    "hash": "a0f5c1e7b2b766875d1c93a1be1281b16dc1644680ae878bce9d0eb6e7643375"
   }
  }
 },
 "nbformat": 4,
 "nbformat_minor": 2
}

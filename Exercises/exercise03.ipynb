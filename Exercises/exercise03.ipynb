{
 "cells": [
  {
   "cell_type": "code",
   "execution_count": 1,
   "metadata": {},
   "outputs": [
    {
     "name": "stdout",
     "output_type": "stream",
     "text": [
      "-10\n",
      "-9\n",
      "-8\n",
      "-7\n",
      "-6\n",
      "-5\n",
      "-4\n",
      "-3\n",
      "-2\n",
      "-1\n",
      "0\n",
      "1\n",
      "2\n",
      "3\n",
      "4\n",
      "5\n",
      "6\n",
      "7\n",
      "8\n",
      "9\n"
     ]
    }
   ],
   "source": [
    "# 1\n",
    "count = -10\n",
    "while count < 10:\n",
    "    print(count)\n",
    "    count += 1"
   ]
  },
  {
   "cell_type": "code",
   "execution_count": 4,
   "metadata": {},
   "outputs": [
    {
     "name": "stdout",
     "output_type": "stream",
     "text": [
      "5050\n"
     ]
    }
   ],
   "source": [
    "# 2 a\n",
    "count = 1\n",
    "sum = 0\n",
    "while count <= 100:\n",
    "    sum += count\n",
    "    count += 1\n",
    "print(sum)"
   ]
  },
  {
   "cell_type": "code",
   "execution_count": 7,
   "metadata": {},
   "outputs": [
    {
     "name": "stdout",
     "output_type": "stream",
     "text": [
      "2500\n"
     ]
    }
   ],
   "source": [
    "import random\n",
    "count = 1\n",
    "sum = 0\n",
    "while count < 100:\n",
    "    sum += count\n",
    "    count += 2\n",
    "print(sum)"
   ]
  },
  {
   "cell_type": "code",
   "execution_count": null,
   "metadata": {},
   "outputs": [],
   "source": [
    "\n",
    "\n",
    "# 3 a\n",
    "\n",
    "random_number = random.randint(1, 100)\n",
    "wrong_answers = 0\n",
    "guess = int(input(\"Guess a number between 1 and 100: \"))\n",
    "while guess != random_number:\n",
    "    if guess == random_number:\n",
    "        print(\"You guessed it!\")\n",
    "    else: \n",
    "        print(\"Wrong!\")\n",
    "        wrong_answers += 1\n",
    "        guess = int(input(\"Guess a number between 1 and 100: \"))\n"
   ]
  },
  {
   "cell_type": "code",
   "execution_count": 18,
   "metadata": {},
   "outputs": [
    {
     "name": "stdout",
     "output_type": "stream",
     "text": [
      "It took 1 guesses to guess the number 98\n"
     ]
    }
   ],
   "source": [
    "# 3 b\n",
    "random_number = random.randint(1, 100)\n",
    "distance_from_random = 0\n",
    "\n",
    "guess = random.randint(1, 100)\n",
    "\n",
    "count = 0\n",
    "\n",
    "while guess != random_number:\n",
    "    if guess > random_number:\n",
    "        distance_from_random = guess - random_number\n",
    "        guess = random.randint(1, guess - distance_from_random)\n",
    "    elif guess < random_number:\n",
    "        distance_from_random = random_number - guess\n",
    "        guess = random.randint(guess + distance_from_random, 100)\n",
    "    count += 1\n",
    "\n",
    "print(\"It took\", str(count), \"guesses to guess the number\", str(random_number))\n",
    "\n",
    "\n"
   ]
  },
  {
   "cell_type": "code",
   "execution_count": 20,
   "metadata": {},
   "outputs": [
    {
     "name": "stdout",
     "output_type": "stream",
     "text": [
      "Your chosen difficulty is easy\n",
      "Good work\n",
      "Your score is 1\n",
      "Good work\n",
      "Your score is 2\n",
      "Good work\n",
      "Your final score is 3\n"
     ]
    }
   ],
   "source": [
    "\n",
    "\n",
    "score = 0\n",
    "period = 0\n",
    "\n",
    "\n",
    "x = random.randint(1, period)\n",
    "y = random.randint(1, period)\n",
    "\n",
    "\n",
    "while True:\n",
    "    difficulty = input(\"Choose difficulty: easy, medium, hard: \")\n",
    "    if difficulty == \"easy\":\n",
    "        period = 10\n",
    "    elif difficulty == \"medium\":\n",
    "        period = 20\n",
    "    elif difficulty == \"hard\":\n",
    "        period = 50\n",
    "    print(f\"Your chosen difficulty is {difficulty}\")\n",
    "    operand = random.randint(1, 4)\n",
    "    question_format = \"\"\n",
    "    answer = 0\n",
    "    if operand == 1:\n",
    "        answer = x + y\n",
    "        question_format = f\"{x} + {y} = ?\"\n",
    "    elif operand == 2:\n",
    "        answer = x - y\n",
    "        question_format = f\"{x} - {y} = ?\"\n",
    "    elif operand == 3:\n",
    "        answer = x * y\n",
    "        question_format = f\"{x} * {y} = ?\"\n",
    "    elif operand == 4:\n",
    "        answer = x / y\n",
    "        question_format = f\"{x} / {y} = ?\"\n",
    "    else:\n",
    "        print(\"Something went wrong\")\n",
    "        break\n",
    "    if score > 0:\n",
    "        print(f\"Your score is {score}\")\n",
    "    guess = float(input(question_format))\n",
    "    if guess == answer:\n",
    "        print(\"Good work\")\n",
    "        score += 1\n",
    "        x = random.randint(1, period)\n",
    "        y = random.randint(1, period)\n",
    "    else:\n",
    "        print(\"Wrong!, the answer is\", str(x * y))\n",
    "    answer = input(\"Do you want to continue? (y/n) \")\n",
    "    if answer == \"n\":\n",
    "        break\n",
    "\n",
    "print(\"Your final score is\", str(score))\n"
   ]
  },
  {
   "cell_type": "code",
   "execution_count": 22,
   "metadata": {},
   "outputs": [
    {
     "name": "stdout",
     "output_type": "stream",
     "text": [
      "2.041666666666667\n"
     ]
    }
   ],
   "source": [
    "sum = 0 \n",
    "count = 1\n",
    "n = int(input(\"Enter a number: \"))\n",
    "while count < n:\n",
    "    sum += 1 / count\n",
    "    if count == 1:\n",
    "        count += 1\n",
    "    else:\n",
    "        count += 2\n",
    "\n",
    "print(sum)\n"
   ]
  }
 ],
 "metadata": {
  "kernelspec": {
   "display_name": "Python 3.9.7 ('Antbok')",
   "language": "python",
   "name": "python3"
  },
  "language_info": {
   "codemirror_mode": {
    "name": "ipython",
    "version": 3
   },
   "file_extension": ".py",
   "mimetype": "text/x-python",
   "name": "python",
   "nbconvert_exporter": "python",
   "pygments_lexer": "ipython3",
   "version": "3.9.7"
  },
  "orig_nbformat": 4,
  "vscode": {
   "interpreter": {
    "hash": "a0f5c1e7b2b766875d1c93a1be1281b16dc1644680ae878bce9d0eb6e7643375"
   }
  }
 },
 "nbformat": 4,
 "nbformat_minor": 2
}

{
 "cells": [
  {
   "cell_type": "code",
   "execution_count": 1,
   "metadata": {},
   "outputs": [
    {
     "name": "stdout",
     "output_type": "stream",
     "text": [
      "2 is positive.\n"
     ]
    }
   ],
   "source": [
    "user_input = int(input(\"Enter a number: \"))\n",
    "if user_input < 0:\n",
    "    print(f\"{user_input} is negative\")\n",
    "if user_input > 0:\n",
    "    print(f\"{user_input} is positive.\")\n",
    "if user_input == 0:\n",
    "    print(f\"{user_input} is equal to zero.\")"
   ]
  },
  {
   "cell_type": "code",
   "execution_count": null,
   "metadata": {},
   "outputs": [],
   "source": [
    "num_one = int(input(\"Enter the first number: \"))\n",
    "num_two = int(input(\"Enter the second number: \"))\n",
    "\n",
    "if num_one < num_two:\n",
    "    print(f\"Your first input({num_one}) is smaller\")\n",
    "if num_two < num_one:\n",
    "    print(f\"Your second input ({num_two}) is smaller\")\n",
    "if num_one == num_two:\n",
    "    print(f\"Both are equal.\")"
   ]
  },
  {
   "cell_type": "code",
   "execution_count": null,
   "metadata": {},
   "outputs": [],
   "source": [
    "while True:\n",
    "    try:\n",
    "        angle_one = int(input(\"Enter the first angle: \"))\n",
    "        angle_two = int(input(\"Enter the second angle: \"))\n",
    "        angle_three = int(input(\"Enter the third angle: \"))\n",
    "        break \n",
    "    except:\n",
    "        print(\"Something went wrong, try again.\")\n",
    "\n",
    "if angle_one + angle_two + angle_three == 180:\n",
    "    print(\"The triangle has the right angle.\")\n",
    "else:\n",
    "    print(\"The triangle has not the right angle.\")\n"
   ]
  },
  {
   "cell_type": "code",
   "execution_count": null,
   "metadata": {},
   "outputs": [],
   "source": [
    "# Exersice 4\n"
   ]
  },
  {
   "cell_type": "code",
   "execution_count": null,
   "metadata": {},
   "outputs": [],
   "source": [
    "user_input = int(input(\"Enter a number: \"))\n",
    "if user_input % 2 == 0:\n",
    "    print(\"The number is even.\")\n",
    "    if user_input % 5 == 0:\n",
    "        print(f\"{user_input} is divisible by 5.\")\n",
    "else: \n",
    "    if user_input %5 == 0: \n",
    "        print(f\"{user_input} is divisible by 5 and odd.\")\n",
    "    else:\n",
    "        print(f\"{user_input} is odd.\")"
   ]
  },
  {
   "cell_type": "code",
   "execution_count": null,
   "metadata": {},
   "outputs": [],
   "source": [
    "weight = int(input(\"Enter the luggage's weight: \"))\n",
    "length = int(input(\"The length of luggage: \"))\n",
    "width = int(input(\"The width of the luggage: \"))\n",
    "height = int(input(\"The height of the luggage: \"))\n",
    "\n",
    "if weight <= 8 and (length <= 55 and width <= 40 and height <= 23): \n",
    "    print(\"Your luggage is allowed for onboard.\")\n",
    "else:\n",
    "    print(\"Unfortunately, your luggage is not allowed for onboarding.\")\n",
    "\n"
   ]
  }
 ],
 "metadata": {
  "kernelspec": {
   "display_name": "Python 3.9.7 64-bit",
   "language": "python",
   "name": "python3"
  },
  "language_info": {
   "codemirror_mode": {
    "name": "ipython",
    "version": 3
   },
   "file_extension": ".py",
   "mimetype": "text/x-python",
   "name": "python",
   "nbconvert_exporter": "python",
   "pygments_lexer": "ipython3",
   "version": "3.9.7"
  },
  "orig_nbformat": 4,
  "vscode": {
   "interpreter": {
    "hash": "14397e23affbba3d3cad464251fd924d97804b9b92e6d112145b91bc90af0323"
   }
  }
 },
 "nbformat": 4,
 "nbformat_minor": 2
}

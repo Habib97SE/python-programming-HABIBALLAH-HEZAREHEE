{
 "cells": [
  {
   "cell_type": "code",
   "execution_count": 1,
   "metadata": {},
   "outputs": [
    {
     "name": "stdout",
     "output_type": "stream",
     "text": [
      "5.0\n"
     ]
    }
   ],
   "source": [
    "import math\n",
    "# Excersise 1>a\n",
    "a = 3\n",
    "b = 4\n",
    "c = (a**2) + (b**2)\n",
    "c = math.sqrt(c)\n",
    "print(c)"
   ]
  },
  {
   "cell_type": "code",
   "execution_count": 3,
   "metadata": {},
   "outputs": [
    {
     "name": "stdout",
     "output_type": "stream",
     "text": [
      "4.9\n"
     ]
    }
   ],
   "source": [
    "# Excersise 1>b\n",
    "c = 7\n",
    "a = 5\n",
    "b = math.sqrt((c**2) - (a**2))\n",
    "print(round(b, 2))"
   ]
  },
  {
   "cell_type": "code",
   "execution_count": 9,
   "metadata": {},
   "outputs": [
    {
     "name": "stdout",
     "output_type": "stream",
     "text": [
      "82.0%\n"
     ]
    }
   ],
   "source": [
    "# Excersise 2\n",
    "print(str((round(300/365, 2) * 100)) + \"%\")"
   ]
  },
  {
   "cell_type": "code",
   "execution_count": 15,
   "metadata": {},
   "outputs": [
    {
     "name": "stdout",
     "output_type": "stream",
     "text": [
      "The accurqacy is: 0.987\n"
     ]
    }
   ],
   "source": [
    "# Excersise 3\n",
    "tp = 2\n",
    "fp = 2\n",
    "fn = 11\n",
    "tn = 985\n",
    "# 1.1% RISK THAT SYSTEM DOES NOT ALARM IN CASE OF A FIRE AND PUT THE USER IN DANGER. \n",
    "formula = (tp + tn) / (tp + fp + fn + tn)\n",
    "print(f\"The accurqacy is: {formula}\")"
   ]
  },
  {
   "cell_type": "code",
   "execution_count": 16,
   "metadata": {},
   "outputs": [
    {
     "name": "stdout",
     "output_type": "stream",
     "text": [
      "y = 0.75x + 1.0\n"
     ]
    }
   ],
   "source": [
    "# Excersise 4\n",
    "# k = y2 - y1 / x2 - x1\n",
    "# m = y1 - kx1\n",
    "\n",
    "A = (4, 4)\n",
    "B = (0, 1)\n",
    "k = (B[1] - A[1]) / (B[0] - A[0])\n",
    "m = A[1] - k * A[0]\n",
    "print(f\"y = {k}x + {m}\")"
   ]
  },
  {
   "cell_type": "code",
   "execution_count": 21,
   "metadata": {},
   "outputs": [
    {
     "name": "stdout",
     "output_type": "stream",
     "text": [
      "5.1\n"
     ]
    }
   ],
   "source": [
    "P1 = (3, 5)\n",
    "P2 = (-2, 4)\n",
    "distance = math.sqrt(((P1[0] - P2[0] ) ** 2) + ((P1[1] - P2[1]) ** 2))\n",
    "print(round(distance, 2))"
   ]
  },
  {
   "cell_type": "code",
   "execution_count": 22,
   "metadata": {},
   "outputs": [
    {
     "name": "stdout",
     "output_type": "stream",
     "text": [
      "4.123105625617661\n"
     ]
    }
   ],
   "source": [
    "p = (2,1,4)\n",
    "q = (3,1,0)\n",
    "distance = math.sqrt((((p[0] - q[0]) ** 2 ) + ((p[1] - q[1]) ** 2) + ((p[2] - q[2]) ** 2)))\n",
    "print(round(distance, 2))"
   ]
  }
 ],
 "metadata": {
  "kernelspec": {
   "display_name": "Python 3.9.7 64-bit",
   "language": "python",
   "name": "python3"
  },
  "language_info": {
   "codemirror_mode": {
    "name": "ipython",
    "version": 3
   },
   "file_extension": ".py",
   "mimetype": "text/x-python",
   "name": "python",
   "nbconvert_exporter": "python",
   "pygments_lexer": "ipython3",
   "version": "3.9.7"
  },
  "orig_nbformat": 4,
  "vscode": {
   "interpreter": {
    "hash": "14397e23affbba3d3cad464251fd924d97804b9b92e6d112145b91bc90af0323"
   }
  }
 },
 "nbformat": 4,
 "nbformat_minor": 2
}

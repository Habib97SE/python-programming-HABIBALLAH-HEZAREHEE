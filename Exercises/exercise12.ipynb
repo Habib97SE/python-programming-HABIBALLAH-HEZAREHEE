{
 "cells": [
  {
   "cell_type": "code",
   "execution_count": 21,
   "metadata": {},
   "outputs": [],
   "source": [
    "# Exercise 12.2 Fraction \n",
    "class Fraction:\n",
    "    def __init__(self, nominator : float, denominator: float) -> None:\n",
    "        self.nominator = nominator\n",
    "        self.denominator = denominator\n",
    "\n",
    "    def show(self) -> None:\n",
    "        print(self.nominator, \"/\", self.denominator)\n",
    "\n",
    "    def __str__(self) -> str:\n",
    "        return str(self.nominator) + \"/\" + str(self.denominator)\n",
    "\n",
    "    def __add__(self, other_fraction: Fraction) -> Fraction:\n",
    "        new_nominator = self.nominator * other_fraction.denominator + \\\n",
    "            self.denominator * other_fraction.nominator\n",
    "        new_denominator = self.denominator * other_fraction.denominator\n",
    "        return Fraction(new_nominator, new_denominator)\n",
    "\n",
    "    def __eq__(self, other : Fraction) -> bool:\n",
    "        first_nominator = self.nominator * other.denominator\n",
    "        second_nominator = other.nominator * self.denominator\n",
    "        return first_nominator == second_nominator\n",
    "\n",
    "    def __mul__(self, other : Fraction) -> Fraction:\n",
    "        new_nominator = self.nominator * other.nominator\n",
    "        new_denominator = self.denominator * other.denominator\n",
    "        return Fraction(new_nominator, new_denominator)\n",
    "\n",
    "    def __truediv__(self, other: Fraction) -> Fraction:\n",
    "        new_nominator = self.nominator * other.denominator\n",
    "        new_denominator = self.denominator * other.nominator\n",
    "        return Fraction(new_nominator, new_denominator)\n",
    "\n",
    "    def __sub__(self, other: Fraction) -> Fraction:\n",
    "        new_nominator = self.nominator * other.denominator - self.denominator * other.nominator\n",
    "        new_denominator = self.denominator * other.denominator\n",
    "        return Fraction(new_nominator, new_denominator)\n",
    "\n",
    "    def __gt__(self, other: Fraction) -> bool:\n",
    "        first_nominator = self.nominator * other.denominator\n",
    "        second_nominator = other.nominator * self.denominator\n",
    "        return first_nominator > second_nominator\n",
    "\n",
    "    def __ge__(self, other: Fraction) -> bool:\n",
    "        first_nominator = self.nominator * other.denominator\n",
    "        second_nominator = other.nominator * self.denominator\n",
    "        return first_nominator >= second_nominator\n",
    "\n",
    "    def __lt__(self, other: Fraction) -> bool:\n",
    "        first_nominator = self.nominator * other.denominator\n",
    "        second_nominator = other.nominator * self.denominator\n",
    "        return first_nominator < second_nominator\n",
    "\n",
    "    def __le__(self, other: Fraction) -> bool:\n",
    "        first_nominator = self.nominator * other.denominator\n",
    "        second_nominator = other.nominator * self.denominator\n",
    "        return first_nominator <= second_nominator\n",
    "\n",
    "    def __ne__(self, other: Fraction) -> bool:\n",
    "        first_nominator = self.nominator * other.denominator\n",
    "        second_nominator = other.nominator * self.denominator\n",
    "        return first_nominator != second_nominator\n",
    "\n",
    "    def mixed(self)-> str:\n",
    "        whole = self.nominator // self.denominator\n",
    "        remainder = self.nominator % self.denominator\n",
    "        return f\"{whole} {remainder}/{self.denominator}\"\n",
    "\n",
    "    def simplify(self, value=None) -> Fraction:\n",
    "        if value is None:\n",
    "            value = self\n",
    "        for i in range(2, value.denominator + 1):\n",
    "            if value.nominator % i == 0 and value.denominator % i == 0:\n",
    "                value.nominator = value.nominator // i\n",
    "                value.denominator = value.denominator // i\n",
    "                return self.simplify(value)\n",
    "        return value\n"
   ]
  },
  {
   "cell_type": "code",
   "execution_count": 22,
   "metadata": {},
   "outputs": [],
   "source": [
    "def main():\n",
    "    f1 = Fraction(1, 2)\n",
    "    f2 = Fraction(1, 3)\n",
    "\n",
    "    print(\"f1 + f2:\" , f1 + f2)\n",
    "    print(\"f1 - f2:\", f1 - f2)\n",
    "    print(\"f1 * f2:\" ,f1 * f2)\n",
    "    print(\"f1 / f2:\", f1 / f2)\n",
    "    print(\"f1 == f2:\" ,f1 == f2)\n",
    "    print(\"f1 > f2:\", f1 > f2)\n",
    "    print(\"f1 < f2:\", f1 < f2)\n",
    "    print(\"f1 >= f2:\", f1 >= f2)\n",
    "    print(\"f1 <= f2:\", f1 <= f2)\n",
    "    print(\"f1 != f2:\", f1 != f2)\n",
    "    print(\"f1.mixed():\", f1.mixed())\n",
    "    print(\"f1.simplify():\" ,f1.simplify())\n",
    "    print(\"f2.mixed():\", f2.mixed())\n",
    "    print(\"f2.simplify():\", f2.simplify())\n"
   ]
  },
  {
   "cell_type": "code",
   "execution_count": 23,
   "metadata": {},
   "outputs": [
    {
     "name": "stdout",
     "output_type": "stream",
     "text": [
      "f1 + f2: 5/6\n",
      "f1 - f2: 1/6\n",
      "f1 * f2: 1/6\n",
      "f1 / f2: 3/2\n",
      "f1 == f2: False\n",
      "f1 > f2: True\n",
      "f1 < f2: False\n",
      "f1 >= f2: True\n",
      "f1 <= f2: False\n",
      "f1 != f2: True\n",
      "f1.mixed(): 0 1/2\n",
      "f1.simplify(): 1/2\n",
      "f2.mixed(): 0 1/3\n",
      "f2.simplify(): 1/3\n"
     ]
    }
   ],
   "source": [
    "if __name__ == \"__main__\":\n",
    "    main()\n"
   ]
  }
 ],
 "metadata": {
  "kernelspec": {
   "display_name": "Python 3.9.7 ('Antbok')",
   "language": "python",
   "name": "python3"
  },
  "language_info": {
   "codemirror_mode": {
    "name": "ipython",
    "version": 3
   },
   "file_extension": ".py",
   "mimetype": "text/x-python",
   "name": "python",
   "nbconvert_exporter": "python",
   "pygments_lexer": "ipython3",
   "version": "3.9.7"
  },
  "orig_nbformat": 4,
  "vscode": {
   "interpreter": {
    "hash": "a0f5c1e7b2b766875d1c93a1be1281b16dc1644680ae878bce9d0eb6e7643375"
   }
  }
 },
 "nbformat": 4,
 "nbformat_minor": 2
}
